{
 "cells": [
  {
   "cell_type": "code",
   "execution_count": null,
   "id": "57c5cd73",
   "metadata": {},
   "outputs": [],
   "source": [
    "from IPython.display import YouTubeVideo\n",
    "YouTubeVideo('Xz0x-8-cgaQ', width=800, height=500)"
   ]
  },
  {
   "cell_type": "markdown",
   "id": "dcdf8f97",
   "metadata": {},
   "source": [
    "#1\n",
    "\n",
    "The main diffeerence between the \"standard error of the mean\" and the \"standard deviation\" of the original data is that they are statistics about different objects. \n",
    "The standard deviation represents the variability -- how spread individual data points are from the mean -- of the original dataset.\n",
    "The standard error of the mean represents the expected variability of the sample mean. In the other words, the standard error tells us how accurately the sample mean estimates the population mean.\n",
    "Moreover, the standard error of the mean changes with the change of sample size. For example, when we increase the sample size of a bootstrapped sample, the standard error of the mean would decrease. This is because a larger sample size has more stable sample means, and that makes the standard error of the mean, who represents the variability of sample means, smaller.\n",
    "\n",
    "#Summary and link of ChatBot session\n",
    "Here's a summary of our exchanges for your homework assignment:\n",
    "\n",
    "1. **Bootstrapping Explanation**: We discussed bootstrapping as a statistical technique for estimating the distribution of a statistic by resampling data with replacement. This method allows you to estimate sampling distributions, confidence intervals, and standard errors without needing to make strong assumptions about the underlying data.\n",
    "\n",
    "2. **Difference Between Standard Error of the Mean (SEM) and Standard Deviation (SD)**: I explained that the **standard deviation (SD)** measures the variability of individual data points, while the **standard error of the mean (SEM)** measures the precision of the sample mean as an estimate of the population mean. The SEM decreases as the sample size increases.\n",
    "\n",
    "3. **Effect of Sample Size on Variability of Means Using Bootstrapping**: I provided an explanation of how the variability of the means of simulated (bootstrapped) samples decreases as the sample size increases. Larger samples result in a more precise estimate of the population mean because the means of different samples become more stable and less variable.\n",
    "\n",
    "https://chatgpt.com/share/66ff2e0b-e950-8001-8c36-3b4c7a6e0cbe"
   ]
  },
  {
   "cell_type": "markdown",
   "id": "a02cc01d",
   "metadata": {},
   "source": [
    "#2\n",
    "\n",
    "To create a 95% confidence interval using the standard error of the bootstrap means, first Let's use 1000 bootstrap samples from the original dataset and calculate the mean of each sample. Then, let's find the mean and standard error of these bootstrap means. Finally,  we can use the formula to find the 95% confidence interval: CI = (the mean of the bootstrapped sample means) plus or minus (the Z-score (1.96 for 95% confidence)) times (the standard error of the mean). \n",
    "\n",
    "#Summary and link of ChatBot session\n",
    "\n",
    "1. **Standard Error of the Mean and Confidence Intervals**:\n",
    "   - You asked how to use the \"standard error of the mean\" (SEM) to create a 95% confidence interval that covers 95% of the bootstrapped sample means.\n",
    "   - I explained that you calculate the SEM by taking the standard deviation of the bootstrapped sample means and divide it by the square root of the sample size. You then construct the confidence interval using the formula: \\(\\text{CI} = \\bar{X} \\pm (Z \\times \\text{SEM})\\), with \\(Z = 1.96\\) for 95% confidence.\n",
    "\n",
    "2. **Number of Bootstrap Samples**:\n",
    "   - You asked whether you always need 1000 bootstrap samples.\n",
    "   - I explained that 1000 is a commonly used value for balance between accuracy and computational efficiency, but it is not a strict requirement. Using fewer samples may lead to more variability in estimates, while using more samples can improve accuracy but requires more computational resources. Typically, 1000-2000 samples are sufficient, but the number can be adjusted based on precision needs and computational constraints.\n",
    "\n",
    "This summary should help you submit the required record of our interactions for your homework assignment.\n",
    "https://chatgpt.com/share/66ff32ec-99dc-8001-b673-9e551ed66b9c"
   ]
  },
  {
   "cell_type": "markdown",
   "id": "e29ff782",
   "metadata": {},
   "source": [
    "#3\n",
    "\n",
    "To create a 95% bootstrapped confidence interval using the bootstrapped means without using their standard deviation to estimate the standard error of the mean, I would first use pd.read.csv to import my dataset. Then set the repeats to be 1000 and sample size to the same as the size of sample data. Then use np.zeros to have null vectors. Use np.random.seed to set the random seed, so that when we run the code m ultiple times it will produce the same results. Then use np.random.choice to sample with replace from the original sample. Then use sample.mean function to calculate the sample mean of each bootstrapped sample. Finally, use np.quantile to calculate the 0.025 quantile and 0.975 quantile of 1000 bootstrapped sample mean, which gives us the range of the 95% bootstrapped confidence interval. "
   ]
  },
  {
   "cell_type": "code",
   "execution_count": null,
   "id": "48f55e5f",
   "metadata": {},
   "outputs": [],
   "source": [
    "#4\n",
    "\n",
    "import numpy as np\n",
    "\n",
    "# Defining my sample data\n",
    "sample = [4.5, 5.1, 6.3, 4.8, 5.5, 6.0, 4.9, 5.7, 5.8, 4.4]\n",
    "\n",
    "# Set the random seed so that when we run the code m ultiple times it will produce the same results\n",
    "np.random.seed(42)\n",
    "\n",
    "# Bootstrap 1000 times\n",
    "n_bootstrap = 1000\n",
    "\n",
    "# Array to store bootstrap sample means\n",
    "bootstrap_means = []\n",
    "\n",
    "# Bootstrap sampling\n",
    "for _ in range(n_bootstrap):\n",
    "    # Sampling with replacement from the original sample\n",
    "    bootstrap_sample = np.random.choice(sample, size=len(sample), replace=True)\n",
    "    # Calculate the mean of the bootstrap sample\n",
    "    bootstrap_means.append(np.mean(bootstrap_sample))\n",
    "    #To produce a 95% bootstrap confidence interval for different population parameter, for example, the\n",
    "    # median, we can use a different function: change np.mean to np.median so that this line of code will calculate\n",
    "    #  the median of the bootstrap sample.\n",
    "\n",
    "# Calculate the lower bound and upper bound of the 95% confidence interval\n",
    "lower_bound = np.quantile(bootstrap_means, 0.025)\n",
    "upper_bound = np.quantile(bootstrap_means, 0.975)\n",
    "\n",
    "# Print the 95% confidence interval with the lower bound and upper bound just calculated\n",
    "print(f\"95% Bootstrap Confidence Interval: ({lower_bound}, {upper_bound})\")"
   ]
  },
  {
   "cell_type": "markdown",
   "id": "2c5628f8",
   "metadata": {},
   "source": [
    "#4\n",
    "\n",
    "#Summary and link of ChatBot session\n",
    "\n",
    "Here's a summary of our interactions regarding the bootstrap confidence interval:\n",
    "\n",
    "1. You asked for a Python code example that calculates a 95% bootstrap confidence interval for a population mean based on a sample.\n",
    "2. The requirements included:\n",
    "   - Using `np.random.seed` to set the random seed.\n",
    "   - Using `np.random.choice` to sample with replacement from the original sample.\n",
    "   - Using `sample.mean` to calculate the sample mean of each bootstrap sample.\n",
    "   - Calculating the 0.025 and 0.975 quantiles of 1000 bootstrapped sample means using `np.quantile`.\n",
    "\n",
    "3. I provided you with a Python code that meets all these requirements. The code takes a sample, performs bootstrap sampling 1000 times, calculates the mean of each bootstrap sample, and computes the 95% confidence interval using the quantiles of the bootstrapped means.\n",
    "\n",
    "https://chatgpt.com/share/66ff4184-3da0-8001-a047-693130135ffc"
   ]
  },
  {
   "cell_type": "markdown",
   "id": "18f8a8a5",
   "metadata": {},
   "source": [
    "#5\n",
    "\n",
    "It is important to distinguish between the role of the popualation parameter and the sample the statistic when it comes to confidence intervals because sample statistic is what we are calculating and the population parameter is unknown. The population parameter is usually unknown, so we calculate and use the sample statistic to estimate the population parameter.\n",
    "\n",
    "#Summary and link of ChatBot session\n",
    "Here’s a summary of our interactions regarding the role of population parameters and sample statistics in confidence intervals:\n",
    "\n",
    "1. **Initial Question**: You asked about the need to distinguish between the roles of the population parameter and the sample statistic when it comes to confidence intervals.\n",
    "\n",
    "2. **Initial Explanation**: I provided an overview explaining that population parameters are fixed but usually unknown values that describe a population characteristic, whereas sample statistics are calculated from a sample and used as estimates of those parameters. The confidence interval uses the sample statistic to estimate the range within which the population parameter likely lies, highlighting the importance of this distinction for understanding and quantifying uncertainty.\n",
    "\n",
    "3. **Detailed Explanation**: You requested a more detailed explanation. I elaborated further:\n",
    "   - I defined population parameters and sample statistics in greater depth.\n",
    "   - I emphasized the difference between unknown population parameters and variable sample statistics, explaining why this distinction matters in estimating the parameters.\n",
    "   - I explained the role of confidence intervals, pointing out how they provide a range of plausible values for the population parameter and account for sampling variability.\n",
    "   - I discussed the importance of recognizing sampling error, how confidence intervals quantify this error, and the correct interpretation of confidence intervals.\n",
    "   - I also clarified the purpose of making inferences from sample to population, highlighting the relationship between the sample statistic, population parameter, and confidence interval.\n",
    "\n",
    "Let me know if you need any adjustments or additional information for your homework assignment.\n",
    "https://chatgpt.com/share/66ff478f-745c-8001-b2f8-62b736951adf"
   ]
  },
  {
   "cell_type": "markdown",
   "id": "df9032b0",
   "metadata": {},
   "source": [
    "#6\n",
    "\n",
    "1. What is the process of bootstrapping?\n",
    "Bootstraping is a way to sample a dataset when you have a dataset that consists small data points but want to use it to estimate the population. The exact process of bootstrapping is to randomly pick data points from the original dataset, and the number of randomly picked data points should be the same as the number of data points in the original dataset, so that this will give you a \"new sample.\" And we repeat this process for manhy time, usually 1000, to have a large amount of samples to interpretate.\n",
    "\n",
    "2. What is the main purpose of bootstrapping?\n",
    "The main purpose of bootstrapping is to estimate the uncertainty and variability of the sample. When we only have a small sample, it is helpful to use bootstraping to simulate how stable and reliable the sample is when we use it to estimate the population.\n",
    "\n",
    "3. If you had a (hypothesized) guess about what the average of a population was, and you had a sample of size n from that population, how could you use bootstrapping to assess whether or not your (hypothesized) guess might be plausible?\n",
    "If you have a hypothesized guess about the population average and a sample, you can use bootstrapping to test your guess. First, set the null hypothesis (H0) as the population average being your guess number, and the alternative hypothesis (Ha) as it not being your guess number. Then, you resample from your original sample and calculate the mean(average) of each sample to build a distribution of means and form a confidence interval. If your guess falls within this interval, you do not reject null hypothesis, which means that your guess is plausible."
   ]
  },
  {
   "cell_type": "markdown",
   "id": "4ee71be6",
   "metadata": {},
   "source": [
    "#7\n",
    "\n",
    "Because the confidence interval includes zero, so that zero is a possible value for the population mean. Therefore, we fail to reject the null hypothesis. Since we failed to reject the null hypothesis, we can't conclude the alternative hypothesis because we don't have enough evidence to say that the alternative hypothesis is correct, which means that the drug has no effect on average. When the confidence interval doesn't include zero, it means that zero is not a plausible population mean, so we can reject the null hypothesis and conclude that the drug has a significant effect."
   ]
  },
  {
   "cell_type": "markdown",
   "id": "1a002cd0",
   "metadata": {},
   "source": [
    "#8\n",
    "\n",
    "Problem Introduction：\n",
    "\n",
    "AliTech developed a new vaccine to improve people' health. To determine whether the vaccine is effective, we will analyse a dataset of ten people's health scores.\n",
    "The null hypothesis (H0) is that the vaccine has no effect on health, which statistically means that the population mean of the difference between final health score and initial health score is zero. The alternative hypothesis (Ha) is that the vaccine has effect on health, which statistically means that the population mean of the difference between final health score and initial health score is nor zero."
   ]
  },
  {
   "cell_type": "code",
   "execution_count": 8,
   "id": "aa34eabf",
   "metadata": {},
   "outputs": [
    {
     "name": "stdout",
     "output_type": "stream",
     "text": [
      "   PatientID  Age Gender  InitialHealthScore  FinalHealthScore\n",
      "0          1   45      M                  84                86\n",
      "1          2   34      F                  78                86\n",
      "2          3   29      M                  83                80\n",
      "3          4   52      F                  81                86\n",
      "4          5   37      M                  81                84\n",
      "5          6   41      F                  80                86\n",
      "6          7   33      M                  79                86\n",
      "7          8   48      F                  85                82\n",
      "8          9   26      M                  76                83\n",
      "9         10   39      F                  83                84\n",
      "95% Confidence Interval for Mean Difference: [1.2 5.4]\n"
     ]
    },
    {
     "data": {
      "image/png": "[encoded data removed]",
      "text/plain": [
       "<Figure size 640x480 with 1 Axes>"
      ]
     },
     "metadata": {},
     "output_type": "display_data"
    }
   ],
   "source": [
    "import numpy as np\n",
    "import pandas as pd\n",
    "import matplotlib.pyplot as plt\n",
    "\n",
    "data = {\n",
    "    \"PatientID\": [1, 2, 3, 4, 5, 6, 7, 8, 9, 10],\n",
    "    \"Age\": [45, 34, 29, 52, 37, 41, 33, 48, 26, 39],\n",
    "    \"Gender\": [\"M\", \"F\", \"M\", \"F\", \"M\", \"F\", \"M\", \"F\", \"M\", \"F\"],\n",
    "    \"InitialHealthScore\": [84, 78, 83, 81, 81, 80, 79, 85, 76, 83],\n",
    "    \"FinalHealthScore\": [86, 86, 80, 86, 84, 86, 86, 82, 83, 84]\n",
    "}\n",
    "df = pd.DataFrame(data)\n",
    "print(df)\n",
    "\n",
    "np.random.seed(42)\n",
    "\n",
    "observed_diff = df['FinalHealthScore'].mean() - df['InitialHealthScore'].mean()\n",
    "\n",
    "n_iterations = 10000\n",
    "diffs = []\n",
    "\n",
    "for i in range(n_iterations):\n",
    "    initial_sample = np.random.choice(df['InitialHealthScore'], size=len(df), replace=True)\n",
    "    final_sample = np.random.choice(df['FinalHealthScore'], size=len(df), replace=True)\n",
    "    diff = final_sample.mean() - initial_sample.mean()\n",
    "    diffs.append(diff)\n",
    "\n",
    "diffs = np.array(diffs)\n",
    "\n",
    "conf_interval = np.percentile(diffs, [2.5, 97.5])\n",
    "print(f\"95% Confidence Interval for Mean Difference: {conf_interval}\")\n",
    "\n",
    "plt.hist(diffs, bins=30, color='lightyellow', edgecolor='deepskyblue')\n",
    "plt.axvline(observed_diff, color='hotpink', linestyle='dashed', linewidth=2, label=f'Observed Diff = {observed_diff:.2f}')\n",
    "plt.axvline(conf_interval[0], color='pink', linestyle='dashed', linewidth=2, label=f'Lower Confidence Interval = {conf_interval[0]:.2f}')\n",
    "plt.axvline(conf_interval[1], color='pink', linestyle='dashed', linewidth=2, label=f'Upper Confidence Interval = {conf_interval[1]:.2f}')\n",
    "plt.title('Bootstrapped Mean Differences')\n",
    "plt.legend()\n",
    "plt.show()"
   ]
  },
  {
   "cell_type": "markdown",
   "id": "cd2f50d7",
   "metadata": {},
   "source": [
    "#8 \n",
    "\n",
    "Conclusion:\n",
    "Since the 95% confidence interval for the mean score difference (1.2, 5.4) does not include zero, we can reject the null hypothesis and conclude the alternative hypothesis. This tells us that there is enough evidence that the vaccine has effect on improving people's health."
   ]
  },
  {
   "cell_type": "markdown",
   "id": "cf1758c9",
   "metadata": {},
   "source": [
    "#9\n",
    "\n",
    "Yes."
   ]
  }
 ],
 "metadata": {
  "kernelspec": {
   "display_name": "Python 3 (ipykernel)",
   "language": "python",
   "name": "python3"
  },
  "language_info": {
   "codemirror_mode": {
    "name": "ipython",
    "version": 3
   },
   "file_extension": ".py",
   "mimetype": "text/x-python",
   "name": "python",
   "nbconvert_exporter": "python",
   "pygments_lexer": "ipython3",
   "version": "3.11.6"
  }
 },
 "nbformat": 4,
 "nbformat_minor": 5
}
